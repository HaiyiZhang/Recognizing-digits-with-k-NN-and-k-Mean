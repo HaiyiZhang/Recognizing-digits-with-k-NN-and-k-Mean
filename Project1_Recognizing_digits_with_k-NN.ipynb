{
 "cells": [
  {
   "cell_type": "markdown",
   "metadata": {},
   "source": [
    "## Introduction"
   ]
  },
  {
   "cell_type": "markdown",
   "metadata": {},
   "source": [
    "# Part 1\n",
    "The full name of K-NN is k-NearestNeighbor. The k-NN algorithm means that if most of the k nearest neighbors of a sample in the feature space belong to a certain category, the sample also belongs to this category and has the characteristics of the samples in this category.\n",
    "\n",
    "The distance calculation of the KNN algorithm is to calculate the distance between the predicted point and all points, then save and sort, and select the first K values to see which categories are more numerous. The calculation formula in a two-dimensional array is:\n",
    "$$d=\\sqrt{\\left(x_2-x_1\\right)^2+\\left(y_2-y_1\\right)^2}$$\n",
    "* where $(x_1,y_1)$is the data point we want to classify.\n",
    "\n",
    "\n",
    "\n",
    "\n",
    "\n",
    "\n",
    "\n",
    "Our goal in this project is to implement k-NN algorithm.\n",
    "The main steps are\n",
    "1. Calculate the distance between a point in a dataset of known classes and the current point.\n",
    "2. Sort the points in order of increasing distance.\n",
    "3. Select the k points with the smallest distance from the predicted point.\n",
    "4. Determine the frequency of occurrence of the label where the k points are located.\n",
    "5. Return the label with the highest frequency in the first k points as the predicted classification of the current point.\n",
    "\n",
    "# Part 2\n",
    "Also, we want to investigate performance of the k-Nearest Neighbors algorithm in classification of images in the MNIST database. The MNIST database is a collection of 60,000 images of handwritten digits from 0 through 9. Each image in the MNIST dataset consists of 28 x 28 pixels."
   ]
  },
  {
   "cell_type": "markdown",
   "metadata": {},
   "source": [
    "  "
   ]
  },
  {
   "cell_type": "markdown",
   "metadata": {},
   "source": [
    "## Part 1"
   ]
  },
  {
   "cell_type": "code",
   "execution_count": 326,
   "metadata": {},
   "outputs": [],
   "source": [
    "import numpy as np"
   ]
  },
  {
   "cell_type": "markdown",
   "metadata": {},
   "source": [
    "First, we define a function SortData that calculates the distance between the points in the dataset and the predicted points, and sort the points in increasing order by distance"
   ]
  },
  {
   "cell_type": "code",
   "execution_count": 327,
   "metadata": {},
   "outputs": [],
   "source": [
    "def SortData(training_data, x):\n",
    "    #Use the Euclidean distance formula to get the distance of each point to the predicted point\n",
    "    training_dataSize = training_data.shape[0]\n",
    "    diffMat = np.tile(x, (training_dataSize, 1)) - training_data\n",
    "    sqDiffMat = diffMat**2\n",
    "    sqDistances = sqDiffMat.sum(axis=1)\n",
    "    distances = sqDistances**0.5\n",
    "    sortedDistIndices = distances.argsort()\n",
    "    return sortedDistIndices"
   ]
  },
  {
   "cell_type": "markdown",
   "metadata": {},
   "source": [
    "The function knn selects the n points with the smallest distance from the current point, and determine the frequency of occurrence of the label of this point. Finally, the label with the highest frequency of the n points is returned as the predicted label of the predicted point, and the row number of the n points is returned."
   ]
  },
  {
   "cell_type": "code",
   "execution_count": 328,
   "metadata": {},
   "outputs": [],
   "source": [
    "def knn(training_data, training_labels, x, n):\n",
    "    \n",
    "    appear_times = {}\n",
    "    lists=[]\n",
    "    votelabel=[]\n",
    "    \n",
    "    for i in range(n):\n",
    "        votelabel.append(training_labels[SortData(training_data,x)[i]])\n",
    "        #Record the closest n points\n",
    "        lists.append(SortData(training_data,x)[i])\n",
    "        \n",
    "    #Count the number of times each label appears\n",
    "    for label in votelabel:\n",
    "        if label in appear_times:\n",
    "            appear_times[label] += 1\n",
    "        else:\n",
    "            appear_times[label] = 1\n",
    "    mostNum = max(appear_times, key=lambda x: appear_times[x])\n",
    "\n",
    "\n",
    "    return [mostNum,lists]"
   ]
  },
  {
   "cell_type": "markdown",
   "metadata": {},
   "source": [
    "## Part 2"
   ]
  },
  {
   "cell_type": "markdown",
   "metadata": {},
   "source": [
    "The file \"train-images-idx3-ubyte.gz\" contains images of digits"
   ]
  },
  {
   "cell_type": "code",
   "execution_count": 329,
   "metadata": {},
   "outputs": [],
   "source": [
    "import gzip\n",
    "with gzip.open(\"train-images-idx3-ubyte.gz\",'rb') as foo:\n",
    "    #read binary data which is the training_data in knn()\n",
    "    f = foo.read()"
   ]
  },
  {
   "cell_type": "markdown",
   "metadata": {},
   "source": [
    "Here, we expand the 28 x 28 pixels into a one-dimensional row vector, and these row vectors are the rows in the image array (784 values per row, or each row represents an image)."
   ]
  },
  {
   "cell_type": "code",
   "execution_count": 330,
   "metadata": {},
   "outputs": [],
   "source": [
    "images = np.array([b for b in f[16:]]) .reshape(-1,28*28)"
   ]
  },
  {
   "cell_type": "code",
   "execution_count": 331,
   "metadata": {},
   "outputs": [],
   "source": [
    "img = images[19].reshape(28,28)"
   ]
  },
  {
   "cell_type": "code",
   "execution_count": 332,
   "metadata": {},
   "outputs": [
    {
     "name": "stdout",
     "output_type": "stream",
     "text": [
      "[[  0   0   0   0   0   0   0   0   0   0   0   0   0   0   0   0   0   0   0   0   0   0   0   0   0   0   0   0]\n",
      " [  0   0   0   0   0   0   0   0   0   0   0   0   0   0   0   0   0   0   0   0   0   0   0   0   0   0   0   0]\n",
      " [  0   0   0   0   0   0   0   0   0   0   0   0   0   0   0   0   0   0   0   0   0   0   0   0   0   0   0   0]\n",
      " [  0   0   0   0   0   0   0   0   0   0   0   0   0   0   0   0   0   0   0   0   0   0   0   0   0   0   0   0]\n",
      " [  0   0   0   0   0   0   0   0   0   0   0   0   0   0   0   0   0   0   0   0   0   0   0   0   0   0   0   0]\n",
      " [  0   0   0   0   0   0   0   0   0   0   0   0   0   0   0   0   0   0   0   0   0   0   0   0   0   0   0   0]\n",
      " [  0   0   0   0   0   0   0   0   0   0   0   0   0   0   0   0   0   0   0   0   0   0   0   0   0   0   0   0]\n",
      " [  0   0   0   0   0   0   0   0   0   0   0   0   0  18 105 227 253 253 122   0   0   0   0   0   0   0   0   0]\n",
      " [  0   0   0   0   0   0   0   0   0   0   0   0  57 199 253 252 252 252 252 159   0   0   0   0   0   0   0   0]\n",
      " [  0   0   0   0   0   0   0   0   0   0   0  20 211 252 232 152  73 167 252 215   6   0   0   0   0   0   0   0]\n",
      " [  0   0   0   0   0   0   0   0   0   0   0 197 252 182   0   0   0  37 235 243  47   0   0   0   0   0   0   0]\n",
      " [  0   0   0   0   0   0   0   0   0   0   0 188 252 103   0   0   0  37 235 229  27   0   0   0   0   0   0   0]\n",
      " [  0   0   0   0   0   0   0   0   0   0   0 189 253  86   8  43 139 190 211  45   0   0   0   0   0   0   0   0]\n",
      " [  0   0   0   0   0   0   0   0   0   0   0 232 252 200 201 252 252  84   0   0   0   0   0   0   0   0   0   0]\n",
      " [  0   0   0   0   0   0   0   0   0   0   0 213 245 252 253 252 242  42   0   0   0   0   0   0   0   0   0   0]\n",
      " [  0   0   0   0   0   0   0   0   0   0   0   0  56  84 253 252 160   0   0   0   0   0   0   0   0   0   0   0]\n",
      " [  0   0   0   0   0   0   0   0   0   0   0   0   0  45 253 252  38   0   0   0   0   0   0   0   0   0   0   0]\n",
      " [  0   0   0   0   0   0   0   0   0   0   0   0   0  89 255 253  38   0   0   0   0   0   0   0   0   0   0   0]\n",
      " [  0   0   0   0   0   0   0   0   0   0   0   0   0  80 253 189  32   0   0   0   0   0   0   0   0   0   0   0]\n",
      " [  0   0   0   0   0   0   0   0   0   0   0   0  41 179 232  84   0   0   0   0   0   0   0   0   0   0   0   0]\n",
      " [  0   0   0   0   0   0   0   0   0   0   0  15 225 252 115   0   0   0   0   0   0   0   0   0   0   0   0   0]\n",
      " [  0   0   0   0   0   0   0   0   0   0   0 153 252 164   0   0   0   0   0   0   0   0   0   0   0   0   0   0]\n",
      " [  0   0   0   0   0   0   0   0   0   0  68 245 243  79   0   0   0   0   0   0   0   0   0   0   0   0   0   0]\n",
      " [  0   0   0   0   0   0   0   0   0  32 237 245  82   0   0   0   0   0   0   0   0   0   0   0   0   0   0   0]\n",
      " [  0   0   0   0   0   0   0   0   9 148 252 169   0   0   0   0   0   0   0   0   0   0   0   0   0   0   0   0]\n",
      " [  0   0   0   0   0   0   0   0 106 253 196   7   0   0   0   0   0   0   0   0   0   0   0   0   0   0   0   0]\n",
      " [  0   0   0   0   0   0   0  54 228 129  28   0   0   0   0   0   0   0   0   0   0   0   0   0   0   0   0   0]\n",
      " [  0   0   0   0   0   0   0   0   0   0   0   0   0   0   0   0   0   0   0   0   0   0   0   0   0   0   0   0]]\n"
     ]
    }
   ],
   "source": [
    "#Example of one of images\n",
    "with np.printoptions(linewidth=5*28):\n",
    "    print(img)"
   ]
  },
  {
   "cell_type": "markdown",
   "metadata": {},
   "source": [
    "The file \"train-labels-idx1-ubyte.gz\" contains the corresponding labels"
   ]
  },
  {
   "cell_type": "code",
   "execution_count": 333,
   "metadata": {},
   "outputs": [],
   "source": [
    "with gzip.open(\"train-labels-idx1-ubyte.gz\",'rb') as foo:\n",
    "    f=foo.read()"
   ]
  },
  {
   "cell_type": "code",
   "execution_count": 334,
   "metadata": {},
   "outputs": [],
   "source": [
    "labels = np.array([b for b in f[8:]])"
   ]
  },
  {
   "cell_type": "markdown",
   "metadata": {},
   "source": [
    "Use function knn to select the 10 points with the smallest distance from the current point to get the predicted value"
   ]
  },
  {
   "cell_type": "code",
   "execution_count": 335,
   "metadata": {},
   "outputs": [
    {
     "name": "stdout",
     "output_type": "stream",
     "text": [
      "6\n"
     ]
    },
    {
     "data": {
      "text/plain": [
       "[6, [18, 27724, 32312, 38782, 47808, 16346, 57846, 32402, 34918]]"
      ]
     },
     "execution_count": 335,
     "metadata": {},
     "output_type": "execute_result"
    }
   ],
   "source": [
    "#Test one of images\n",
    "print(labels[18])\n",
    "knn(images,labels,images[18],9)"
   ]
  },
  {
   "cell_type": "markdown",
   "metadata": {},
   "source": [
    "Repeatedly use knn() to classify more images and plot them. \n",
    "\n",
    "Also I will compare predicted and exact images"
   ]
  },
  {
   "cell_type": "code",
   "execution_count": 336,
   "metadata": {},
   "outputs": [],
   "source": [
    "import matplotlib.pyplot as plt"
   ]
  },
  {
   "cell_type": "code",
   "execution_count": 337,
   "metadata": {},
   "outputs": [
    {
     "data": {
      "image/png": "[encoded data removed]",
      "text/plain": [
       "<Figure size 432x288 with 10 Axes>"
      ]
     },
     "metadata": {},
     "output_type": "display_data"
    }
   ],
   "source": [
    "#Create plots to show more images\n",
    "fig, ax = plt.subplots(\n",
    "    nrows=2,\n",
    "    ncols=5,\n",
    "    sharex=True,\n",
    "    sharey=True, )\n",
    "ax = ax.flatten()\n",
    "for i in range(0,10):\n",
    "    img = images[i].reshape(28,28)\n",
    "    ax[i].imshow(img, cmap='Greys', interpolation='nearest')\n",
    "    plt.imshow(img, cmap=\"Greys\")\n",
    "    \n",
    "    KNN=knn(images,labels,images[i],15)[0]\n",
    "    ax[i].set_xticks([])\n",
    "    ax[i].set_yticks([])\n",
    "    ax[i].set_title(KNN)"
   ]
  },
  {
   "cell_type": "code",
   "execution_count": 338,
   "metadata": {},
   "outputs": [
    {
     "data": {
      "image/png": "[encoded data removed]",
      "text/plain": [
       "<Figure size 432x288 with 1 Axes>"
      ]
     },
     "metadata": {
      "needs_background": "light"
     },
     "output_type": "display_data"
    }
   ],
   "source": [
    "total=[]\n",
    "for i in range(100,400):\n",
    "    imges=images[0:100+i]\n",
    "    px=[]\n",
    "    ac=[]\n",
    "    account=0\n",
    "    account2=0\n",
    "    for a in range(2,30):\n",
    "        px.append(knn(imges,labels,imges[5],a)[0])\n",
    "    for i in range(0,28):\n",
    "        if px[i]==2:\n",
    "            account += 1\n",
    "    total.append(account)\n",
    "\n",
    "x=np.arange(0,300)\n",
    "plt.plot(x+200,total,ls=\"-\")\n",
    "plt.xlabel('Size of training_data')\n",
    "plt.ylabel('Number of correct label times')\n",
    "plt.show()"
   ]
  },
  {
   "cell_type": "markdown",
   "metadata": {},
   "source": [
    "As shown in the figure, when the training set size is between 200-500 and the number of neighbors is fixed at 30, the accuracy is the lowest at 200-230. Accuracy is highest at 500. Although the slope of the line varies greatly, the overall trend is upward. So when the number of neighbors is small, the larger the size of the training set, the higher the accuracy becomes."
   ]
  },
  {
   "cell_type": "markdown",
   "metadata": {},
   "source": [
    "    "
   ]
  },
  {
   "cell_type": "markdown",
   "metadata": {},
   "source": [
    "In addition to the Euclidean distance formula($d=\\sqrt{\\left(x_2-x_1\\right)^2+\\left(y_2-y_1\\right)^2}$) I used in part1, there is also the Manhattan distance formula($p=\\left|x_2-x_1\\right|+\\left|y_2-y_1\\right|$)"
   ]
  },
  {
   "cell_type": "code",
   "execution_count": 339,
   "metadata": {},
   "outputs": [],
   "source": [
    "#Use the Manhattan distance formula to calculate the distance between points\n",
    "def SortDataM(training_data, x):\n",
    "    training_dataSize = training_data.shape[0]\n",
    "    diffMat = np.tile(x, (training_dataSize, 1)) - training_data\n",
    "    sqDiffMat = abs(diffMat)\n",
    "    sqDistances = sqDiffMat.sum(axis=1)\n",
    "    distances = sqDistances\n",
    "    sortedDistIndices = distances.argsort()\n",
    "    return sortedDistIndices"
   ]
  },
  {
   "cell_type": "code",
   "execution_count": 340,
   "metadata": {},
   "outputs": [],
   "source": [
    "#Take the Manhattan distance formula into the knn algorithm\n",
    "def knnM(training_data, training_labels, x, n):\n",
    "    appear_times = {}\n",
    "    classCount = {}\n",
    "    lists=[]\n",
    "    votelabel=[]\n",
    "    for i in range(n):\n",
    "        votelabel.append(training_labels[SortDataM(training_data,x)[i]])\n",
    "        lists.append(SortDataM(training_data,x)[i])\n",
    "    for label in votelabel:\n",
    "        if label in appear_times:\n",
    "            appear_times[label] += 1\n",
    "        else:\n",
    "            appear_times[label] = 1\n",
    "    most_common = max(appear_times, key=lambda x: appear_times[x])\n",
    "\n",
    "\n",
    "    return [most_common,lists]"
   ]
  },
  {
   "cell_type": "code",
   "execution_count": 341,
   "metadata": {},
   "outputs": [
    {
     "data": {
      "image/png": "[encoded data removed]",
      "text/plain": [
       "<Figure size 432x288 with 1 Axes>"
      ]
     },
     "metadata": {
      "needs_background": "light"
     },
     "output_type": "display_data"
    }
   ],
   "source": [
    "total=[]\n",
    "total2=[]\n",
    "for i in range(100,400):\n",
    "    imges=images[0:100+i]\n",
    "    px=[]\n",
    "    px2=[]\n",
    "    ac=[]\n",
    "    ac2=[]\n",
    "    account=0\n",
    "    account2=0\n",
    "    for a in range(2,30):\n",
    "        px.append(knn(imges,labels,imges[5],a)[0])\n",
    "        px2.append(knnM(imges,labels,imges[5],a)[0])\n",
    "    for i in range(0,28):\n",
    "        if px[i]==2:\n",
    "            account += 1\n",
    "        if px2[i]==2:\n",
    "            account2 +=1\n",
    "    total.append(account)\n",
    "    total2.append(account2)\n",
    "x=np.arange(0,300)\n",
    "plt.plot(x+200,total,ls=\"-\",label=\"Euclidean\")\n",
    "plt.plot(x+200,total2,ls = \"--\",label=\"Manhattan\")\n",
    "plt.legend(loc=\"upper right\")\n",
    "plt.xlabel('Size of training_data')\n",
    "plt.ylabel('Number of correct label times')\n",
    "plt.show()"
   ]
  },
  {
   "cell_type": "markdown",
   "metadata": {},
   "source": [
    "Drawing a graph to compare two different formulas, I found that when the dataset is below 400, the Manhattan distance formula and Euclidean distance formula are equally accurate, when the dataset becomes larger, the M-distance formula is not as accurate as the E-distance formula. When the data set becomes larger, because not all distances obtained by the M-distance formula are shortest paths, it is more likely to give a higher distance value than the Euclidean distance, so the accuracy becomes lower."
   ]
  },
  {
   "cell_type": "code",
   "execution_count": 342,
   "metadata": {},
   "outputs": [
    {
     "data": {
      "image/png": "[encoded data removed]",
      "text/plain": [
       "<Figure size 432x288 with 20 Axes>"
      ]
     },
     "metadata": {},
     "output_type": "display_data"
    }
   ],
   "source": [
    "imag=images[0:100]\n",
    "fig, ax = plt.subplots(\n",
    "    nrows=4,\n",
    "    ncols=5,\n",
    "    sharex=True,\n",
    "    sharey=True, )\n",
    "ax = ax.flatten()\n",
    "for i in range(0,20):\n",
    "    img = images[i].reshape(28,28)\n",
    "    ax[i].imshow(img, cmap='Greys', interpolation='nearest')\n",
    "    plt.imshow(img, cmap=\"Greys\")\n",
    "    \n",
    "    KNN=knn(imag,labels,imag[i],15)[0]\n",
    "    ax[i].set_xticks([])\n",
    "    ax[i].set_yticks([])\n",
    "    ax[i].set_title(KNN)"
   ]
  },
  {
   "cell_type": "markdown",
   "metadata": {},
   "source": [
    "In this example, as shown in the figure, the images No. 1, 6, 10, 12, 16 and 17 are not correctly classified. Because I reduced the size of the data set to 100 rows, there are no more accurate samples around for classification, so the label of the prediction point is not accurate.The images shows that the numbers 2 and 5 are most often confused with other numbers."
   ]
  },
  {
   "cell_type": "code",
   "execution_count": null,
   "metadata": {},
   "outputs": [],
   "source": []
  }
 ],
 "metadata": {
  "kernelspec": {
   "display_name": "Python 3",
   "language": "python",
   "name": "python3"
  },
  "language_info": {
   "codemirror_mode": {
    "name": "ipython",
    "version": 3
   },
   "file_extension": ".py",
   "mimetype": "text/x-python",
   "name": "python",
   "nbconvert_exporter": "python",
   "pygments_lexer": "ipython3",
   "version": "3.8.3"
  }
 },
 "nbformat": 4,
 "nbformat_minor": 4
}
